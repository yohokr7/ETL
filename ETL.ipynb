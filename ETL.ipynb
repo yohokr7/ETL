{
 "cells": [
  {
   "cell_type": "code",
   "execution_count": 1,
   "metadata": {},
   "outputs": [],
   "source": [
    "import pandas as pd\n",
    "import os\n",
    "import json\n",
    "import pymongo"
   ]
  },
  {
   "cell_type": "code",
   "execution_count": 49,
   "metadata": {},
   "outputs": [],
   "source": [
    "# EXTRACT\n",
    "\n",
    "# Incarceration Rates\n",
    "incar_df = pd.read_html('https://commons.wikimedia.org/wiki/File:U.S._incarceration_rates_1925_onwards.png')[1]\n",
    "\n",
    "# Birth Rates\n",
    "births_total_path = os.path.join('.','dirty_csv',\"TotalBirthsandFertilityRate1909-2015.csv\")\n",
    "births_unmarried_path = os.path.join('.','dirty_csv',\"UnmarriedBirthsbyAgeGroup1940-2015.csv\")\n",
    "births_total_df = pd.read_csv(births_total_path)\n",
    "births_unmarried_df = pd.read_csv(births_unmarried_path)\n",
    "\n",
    "# Property Crime Rates\n",
    "prop_crime_path = os.path.join('.','dirty_csv',\"PropertyCrimeRate1960-2014.csv\")\n",
    "prop_crime_df = pd.read_csv(prop_crime_path)"
   ]
  },
  {
   "cell_type": "code",
   "execution_count": 50,
   "metadata": {},
   "outputs": [],
   "source": [
    "# TRANSFORM\n",
    "\n",
    "# Incarceration Rates\n",
    "incar_df.columns = incar_df.iloc[0]\n",
    "incar_df = incar_df.drop([0])\n",
    "\n",
    "incar_df_path = os.path.join('.','cleaned_json','incarceration_rate.json')\n",
    "incar_df.to_json(f'{incar_df_path}')\n",
    "incar_jdf = open(f'{incar_df_path}').read()\n",
    "incar_data = json.loads(incar_jdf) \n",
    "\n",
    "# Birth Rates\n",
    "births_total = births_total_df['Birth Number']\n",
    "births_unmarried_df.insert(3, \"Total Population\", \"\")\n",
    "births_unmarried_df.insert(4, \"Total Births\", \"\")\n",
    "births_unmarried_df.insert(5, \"% of Total Births\", \"\")\n",
    "\n",
    "births_teen_df = pd.DataFrame(columns = ['Year','Age Group', 'Number of Births', 'Total Births'])\n",
    "\n",
    "for index, row in births_unmarried_df.iterrows():\n",
    "    year_row = births_total_df[births_total_df['Year'] == row['Year']]\n",
    "    pop_size = int(year_row['Birth Number'] / (year_row['Crude Birth Rate']/1000) )\n",
    "    row['Total Births'] = int(year_row['Birth Number'])\n",
    "    row['% of Total Births'] = row['Number of Births'] * 100 / row['Total Births']\n",
    "    births_unmarried_df.iloc[index] = row\n",
    "\n",
    "    \n",
    "for index, row in births_unmarried_df.iterrows():\n",
    "    if births_unmarried_df.iloc[index]['Age Group'] == 'Less than 15 years' or \\\n",
    "    births_unmarried_df.iloc[index]['Age Group'] == '15-19 years' or \\\n",
    "    births_unmarried_df.iloc[index]['Age Group'] == '20-24 years':\n",
    "        births_teen_df = births_teen_df.append(births_unmarried_df.iloc[index])\n",
    "        \n",
    "percent_births = births_teen_df.groupby(by=['Year']).sum()\n",
    "percent_births = percent_births.drop([1940, 2015])\n",
    "\n",
    "percent_df_path = os.path.join('.','cleaned_json','births_unmarried_under_25.json')\n",
    "percent_births.to_json (f'{percent_df_path}')\n",
    "births_jdf = open(f'{percent_df_path}').read()\n",
    "births_data = json.loads(births_jdf)\n",
    "\n",
    "# Property Crime Rates\n",
    "prop_crime_df = prop_crime_df.drop('Unnamed: 6', axis = 1)\n",
    "prop_crime_df = prop_crime_df.dropna()\n",
    "\n",
    "prop_crime_df.set_index('Year', inplace = True)\n",
    "prop_crime_df['Property crime rate'] = prop_crime_df['Property crime rate'].str.lstrip()\n",
    "prop_crime_df = prop_crime_df.astype({'Property crime rate': 'float'})\n",
    "\n",
    "prop_crime_df_path = os.path.join('.','cleaned_json','property_crime_rate.json')\n",
    "prop_crime_df.to_json (f'{prop_crime_df_path}')\n",
    "prop_crime_jdf = open(f'{prop_crime_df_path}').read()\n",
    "prop_crime_data = json.loads(prop_crime_jdf)"
   ]
  },
  {
   "cell_type": "code",
   "execution_count": 57,
   "metadata": {},
   "outputs": [
    {
     "data": {
      "text/plain": [
       "<pymongo.results.InsertOneResult at 0x28cb4f02648>"
      ]
     },
     "execution_count": 57,
     "metadata": {},
     "output_type": "execute_result"
    }
   ],
   "source": [
    "# LOAD\n",
    "\n",
    "connection_string = 'mongodb://localhost:27017'\n",
    "client = pymongo.MongoClient(connection_string)\n",
    "db = client.etl_DB\n",
    "iR = db.incarceration_Rates\n",
    "bR = db.birth_Rates\n",
    "cR = db.crime_Rates\n",
    "\n",
    "# Incarceration Rates\n",
    "incar_df.index = incar_df.index.map(str)\n",
    "incar_dict = incar_df.T.to_dict()\n",
    "\n",
    "iR.insert_one(incar_dict)\n",
    "\n",
    "# # Birth Rates\n",
    "percent_births.index = percent_births.index.map(str)\n",
    "percent_births_dict = percent_births.T.to_dict()\n",
    "\n",
    "bR.insert_one(percent_births_dict)\n",
    "\n",
    "# Property Crime Rates\n",
    "prop_crime_df.index = prop_crime_df.index.map(str)\n",
    "prop_crime_dict = prop_crime_df.T.to_dict()\n",
    "\n",
    "cR.insert_one(prop_crime_dict)"
   ]
  },
  {
   "cell_type": "code",
   "execution_count": null,
   "metadata": {},
   "outputs": [],
   "source": []
  }
 ],
 "metadata": {
  "kernelspec": {
   "display_name": "Python 3",
   "language": "python",
   "name": "python3"
  },
  "language_info": {
   "codemirror_mode": {
    "name": "ipython",
    "version": 3
   },
   "file_extension": ".py",
   "mimetype": "text/x-python",
   "name": "python",
   "nbconvert_exporter": "python",
   "pygments_lexer": "ipython3",
   "version": "3.7.6"
  }
 },
 "nbformat": 4,
 "nbformat_minor": 4
}
